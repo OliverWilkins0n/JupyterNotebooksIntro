{
 "cells": [
  {
   "cell_type": "markdown",
   "id": "98005d90-c4d7-4484-b46f-9ee62334e10d",
   "metadata": {},
   "source": [
    "# My Jupyter Notebook on IBM Watson Studio"
   ]
  },
  {
   "cell_type": "markdown",
   "id": "03068e8f-2851-462a-a9d5-9ccc93782a69",
   "metadata": {},
   "source": [
    "***Oliver***\n",
    "\n",
    "Data Scientist"
   ]
  },
  {
   "cell_type": "markdown",
   "id": "9258a51d-6932-4f68-92b5-1186f898ef77",
   "metadata": {},
   "source": [
    "*I am interested in data science because I find generating insights with data interesting. I also enjoy analytical thinking.*"
   ]
  },
  {
   "cell_type": "markdown",
   "id": "36e1797e-4f3c-4662-a31e-d114d6eb3a17",
   "metadata": {},
   "source": [
    "### The code below will add two numbers together"
   ]
  },
  {
   "cell_type": "code",
   "execution_count": 2,
   "id": "f107db7a-bec7-4684-9319-ddc17421fd2e",
   "metadata": {},
   "outputs": [
    {
     "name": "stdout",
     "output_type": "stream",
     "text": [
      "7\n"
     ]
    }
   ],
   "source": [
    "def addition(num1, num2):\n",
    "    theSum = (num1 + num2)\n",
    "    return theSum\n",
    "print(addition(5, 2))"
   ]
  },
  {
   "cell_type": "markdown",
   "id": "2f78a1af-39ec-45a7-bbcd-2b855e58b787",
   "metadata": {},
   "source": [
    "<ul>\n",
    "    <li>1</li>\n",
    "    <li>2</li>\n",
    "    <li>3</li>\n",
    "</ul>\n",
    "<hr>\n",
    "<ol>\n",
    "    <li>A</li>\n",
    "    <li>b</li>\n",
    "    <li>c</li>\n",
    "</ol>"
   ]
  },
  {
   "cell_type": "code",
   "execution_count": null,
   "id": "fbfca9ea-4878-40a3-bc5d-68a30102c1c7",
   "metadata": {},
   "outputs": [],
   "source": []
  }
 ],
 "metadata": {
  "kernelspec": {
   "display_name": "Python",
   "language": "python",
   "name": "conda-env-python-py"
  },
  "language_info": {
   "codemirror_mode": {
    "name": "ipython",
    "version": 3
   },
   "file_extension": ".py",
   "mimetype": "text/x-python",
   "name": "python",
   "nbconvert_exporter": "python",
   "pygments_lexer": "ipython3",
   "version": "3.7.12"
  }
 },
 "nbformat": 4,
 "nbformat_minor": 5
}
